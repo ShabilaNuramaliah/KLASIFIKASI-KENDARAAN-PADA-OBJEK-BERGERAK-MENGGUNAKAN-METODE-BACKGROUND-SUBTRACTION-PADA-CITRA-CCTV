{
  "nbformat": 4,
  "nbformat_minor": 0,
  "metadata": {
    "colab": {
      "provenance": []
    },
    "kernelspec": {
      "name": "python3",
      "display_name": "Python 3"
    },
    "language_info": {
      "name": "python"
    }
  },
  "cells": [
    {
      "cell_type": "code",
      "source": [
        "pip install opencv-python numpy scikit-image\n"
      ],
      "metadata": {
        "id": "qhZ0w6G0eb0W",
        "colab": {
          "base_uri": "https://localhost:8080/"
        },
        "outputId": "2f83203f-2ff0-44b3-8f44-43607095552d"
      },
      "execution_count": null,
      "outputs": [
        {
          "output_type": "stream",
          "name": "stdout",
          "text": [
            "Requirement already satisfied: opencv-python in /usr/local/lib/python3.11/dist-packages (4.11.0.86)\n",
            "Requirement already satisfied: numpy in /usr/local/lib/python3.11/dist-packages (2.0.2)\n",
            "Requirement already satisfied: scikit-image in /usr/local/lib/python3.11/dist-packages (0.25.2)\n",
            "Requirement already satisfied: scipy>=1.11.4 in /usr/local/lib/python3.11/dist-packages (from scikit-image) (1.15.3)\n",
            "Requirement already satisfied: networkx>=3.0 in /usr/local/lib/python3.11/dist-packages (from scikit-image) (3.4.2)\n",
            "Requirement already satisfied: pillow>=10.1 in /usr/local/lib/python3.11/dist-packages (from scikit-image) (11.2.1)\n",
            "Requirement already satisfied: imageio!=2.35.0,>=2.33 in /usr/local/lib/python3.11/dist-packages (from scikit-image) (2.37.0)\n",
            "Requirement already satisfied: tifffile>=2022.8.12 in /usr/local/lib/python3.11/dist-packages (from scikit-image) (2025.5.21)\n",
            "Requirement already satisfied: packaging>=21 in /usr/local/lib/python3.11/dist-packages (from scikit-image) (24.2)\n",
            "Requirement already satisfied: lazy-loader>=0.4 in /usr/local/lib/python3.11/dist-packages (from scikit-image) (0.4)\n"
          ]
        }
      ]
    },
    {
      "cell_type": "code",
      "execution_count": 25,
      "metadata": {
        "id": "u-UFy-42eFij",
        "colab": {
          "base_uri": "https://localhost:8080/"
        },
        "outputId": "893c9833-3db5-4fb5-936b-263c88bc12fd"
      },
      "outputs": [
        {
          "output_type": "stream",
          "name": "stdout",
          "text": [
            "✅ Video selesai diproses\n"
          ]
        }
      ],
      "source": [
        "import cv2\n",
        "import numpy as np\n",
        "from skimage.filters import threshold_otsu\n",
        "from skimage.morphology import remove_small_objects\n",
        "from skimage.measure import label, regionprops\n",
        "\n",
        "# Buka video\n",
        "video_path = 'jogja.mp4'\n",
        "cap = cv2.VideoCapture(video_path)\n",
        "\n",
        "# Baca semua frame\n",
        "frames = []\n",
        "while True:\n",
        "    ret, frame = cap.read()\n",
        "    if not ret:\n",
        "        break\n",
        "    frames.append(frame)\n",
        "cap.release()\n",
        "\n",
        "if len(frames) == 0:\n",
        "    print(\"❌ Tidak ada frame yang terbaca dari video.\")\n",
        "    exit()\n",
        "\n",
        "# Konversi ke grayscale dan buat background median\n",
        "gray_frames = [cv2.cvtColor(f, cv2.COLOR_BGR2GRAY) for f in frames]\n",
        "background_gray = np.median(np.stack(gray_frames, axis=0), axis=0).astype(np.uint8)\n",
        "\n",
        "# Output video\n",
        "height, width, _ = frames[0].shape\n",
        "out = cv2.VideoWriter('klasifikasi_kendaraan.mp4', cv2.VideoWriter_fourcc(*'mp4v'), 20.0, (width, height))\n",
        "\n",
        "kernel = np.ones((3, 3), np.uint8)\n",
        "\n",
        "for idx, frame in enumerate(frames):\n",
        "    gray = cv2.cvtColor(frame, cv2.COLOR_BGR2GRAY)\n",
        "    diff = cv2.absdiff(gray, background_gray)\n",
        "\n",
        "    # Otsu Threshold\n",
        "    thresh_val = threshold_otsu(diff)\n",
        "    _, binary = cv2.threshold(diff, thresh_val, 255, cv2.THRESH_BINARY)\n",
        "\n",
        "    # Morfologi\n",
        "    binary = cv2.dilate(binary, kernel, iterations=1)\n",
        "    binary = cv2.morphologyEx(binary, cv2.MORPH_OPEN, kernel)\n",
        "    binary = cv2.morphologyEx(binary, cv2.MORPH_CLOSE, kernel)\n",
        "\n",
        "    label_img = label(binary > 0)\n",
        "    filtered = remove_small_objects(label_img, min_size=50)\n",
        "\n",
        "    output = frame.copy()\n",
        "\n",
        "    for region in regionprops(filtered):\n",
        "        if region.area >= 300:\n",
        "            minr, minc, maxr, maxc = region.bbox\n",
        "            w = maxc - minc\n",
        "            h = maxr - minr\n",
        "            area = w * h\n",
        "\n",
        "            # Ambil posisi vertikal tengah dari bounding box\n",
        "            center_y = (minr + maxr) // 2\n",
        "\n",
        "            # Bagi video menjadi 3 zona\n",
        "            third = height // 3\n",
        "\n",
        "            # Klasifikasi berdasarkan zona posisi vertikal\n",
        "            if center_y < third:\n",
        "                if area >= 14000:\n",
        "                    size_label = 'Mobil'\n",
        "                    color = (255, 0, 0)\n",
        "                elif 3000 <= area < 9000:\n",
        "                    size_label = 'Motor'\n",
        "                    color = (0, 255, 255)\n",
        "                else:\n",
        "                    continue\n",
        "            elif center_y < 2 * third:\n",
        "                if area >= 60000:\n",
        "                    size_label = 'Mobil'\n",
        "                    color = (255, 0, 0)\n",
        "                elif 1500 <= area < 20000:\n",
        "                    size_label = 'Motor'\n",
        "                    color = (0, 255, 255)\n",
        "                else:\n",
        "                    continue\n",
        "            else:\n",
        "                if area >= 50000:\n",
        "                    size_label = 'Mobil'\n",
        "                    color = (255, 0, 0)\n",
        "                elif 5000 <= area < 45000:\n",
        "                    size_label = 'Motor'\n",
        "                    color = (0, 255, 255)\n",
        "                else:\n",
        "                    continue\n",
        "\n",
        "            # Tampilkan bounding box dan label\n",
        "            cv2.rectangle(output, (minc, minr), (maxc, maxr), color, 2)\n",
        "            cv2.putText(output, size_label, (minc, minr - 5),\n",
        "                        cv2.FONT_HERSHEY_SIMPLEX, 0.6, color, 2)\n",
        "\n",
        "    out.write(output)\n",
        "\n",
        "out.release()\n",
        "cv2.destroyAllWindows()\n",
        "\n",
        "print(\"✅ Video selesai diproses\")\n"
      ]
    }
  ]
}